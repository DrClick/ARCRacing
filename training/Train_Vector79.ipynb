{
 "cells": [
  {
   "cell_type": "code",
   "execution_count": 1,
   "metadata": {},
   "outputs": [
    {
     "name": "stderr",
     "output_type": "stream",
     "text": [
      "Using TensorFlow backend.\n"
     ]
    },
    {
     "ename": "ModuleNotFoundError",
     "evalue": "No module named 'tensorflow'",
     "output_type": "error",
     "traceback": [
      "\u001b[0;31m---------------------------------------------------------------------------\u001b[0m",
      "\u001b[0;31mModuleNotFoundError\u001b[0m                       Traceback (most recent call last)",
      "\u001b[0;32m<ipython-input-1-186f5e3a85fc>\u001b[0m in \u001b[0;36m<module>\u001b[0;34m()\u001b[0m\n\u001b[1;32m      4\u001b[0m \u001b[0;32mfrom\u001b[0m \u001b[0mscipy\u001b[0m\u001b[0;34m.\u001b[0m\u001b[0mmisc\u001b[0m \u001b[0;32mimport\u001b[0m \u001b[0mimread\u001b[0m\u001b[0;34m,\u001b[0m \u001b[0mimsave\u001b[0m\u001b[0;34m\u001b[0m\u001b[0m\n\u001b[1;32m      5\u001b[0m \u001b[0;32mimport\u001b[0m \u001b[0mcv2\u001b[0m\u001b[0;34m\u001b[0m\u001b[0m\n\u001b[0;32m----> 6\u001b[0;31m \u001b[0;32mfrom\u001b[0m \u001b[0mkeras\u001b[0m\u001b[0;34m.\u001b[0m\u001b[0mmodels\u001b[0m \u001b[0;32mimport\u001b[0m \u001b[0mSequential\u001b[0m\u001b[0;34m\u001b[0m\u001b[0m\n\u001b[0m\u001b[1;32m      7\u001b[0m \u001b[0;32mfrom\u001b[0m \u001b[0mkeras\u001b[0m\u001b[0;34m.\u001b[0m\u001b[0mlayers\u001b[0m\u001b[0;34m.\u001b[0m\u001b[0mcore\u001b[0m \u001b[0;32mimport\u001b[0m \u001b[0mDense\u001b[0m\u001b[0;34m,\u001b[0m \u001b[0mActivation\u001b[0m\u001b[0;34m,\u001b[0m \u001b[0mFlatten\u001b[0m\u001b[0;34m,\u001b[0m \u001b[0mDropout\u001b[0m\u001b[0;34m,\u001b[0m \u001b[0mLambda\u001b[0m\u001b[0;34m\u001b[0m\u001b[0m\n\u001b[1;32m      8\u001b[0m \u001b[0;32mfrom\u001b[0m \u001b[0mkeras\u001b[0m\u001b[0;34m.\u001b[0m\u001b[0mlayers\u001b[0m \u001b[0;32mimport\u001b[0m \u001b[0mconcatenate\u001b[0m\u001b[0;34m,\u001b[0m \u001b[0mInput\u001b[0m\u001b[0;34m\u001b[0m\u001b[0m\n",
      "\u001b[0;32m/usr/local/lib/python3.6/site-packages/keras/__init__.py\u001b[0m in \u001b[0;36m<module>\u001b[0;34m()\u001b[0m\n\u001b[1;32m      1\u001b[0m \u001b[0;32mfrom\u001b[0m \u001b[0m__future__\u001b[0m \u001b[0;32mimport\u001b[0m \u001b[0mabsolute_import\u001b[0m\u001b[0;34m\u001b[0m\u001b[0m\n\u001b[1;32m      2\u001b[0m \u001b[0;34m\u001b[0m\u001b[0m\n\u001b[0;32m----> 3\u001b[0;31m \u001b[0;32mfrom\u001b[0m \u001b[0;34m.\u001b[0m \u001b[0;32mimport\u001b[0m \u001b[0mutils\u001b[0m\u001b[0;34m\u001b[0m\u001b[0m\n\u001b[0m\u001b[1;32m      4\u001b[0m \u001b[0;32mfrom\u001b[0m \u001b[0;34m.\u001b[0m \u001b[0;32mimport\u001b[0m \u001b[0mactivations\u001b[0m\u001b[0;34m\u001b[0m\u001b[0m\n\u001b[1;32m      5\u001b[0m \u001b[0;32mfrom\u001b[0m \u001b[0;34m.\u001b[0m \u001b[0;32mimport\u001b[0m \u001b[0mapplications\u001b[0m\u001b[0;34m\u001b[0m\u001b[0m\n",
      "\u001b[0;32m/usr/local/lib/python3.6/site-packages/keras/utils/__init__.py\u001b[0m in \u001b[0;36m<module>\u001b[0;34m()\u001b[0m\n\u001b[1;32m      4\u001b[0m \u001b[0;32mfrom\u001b[0m \u001b[0;34m.\u001b[0m \u001b[0;32mimport\u001b[0m \u001b[0mdata_utils\u001b[0m\u001b[0;34m\u001b[0m\u001b[0m\n\u001b[1;32m      5\u001b[0m \u001b[0;32mfrom\u001b[0m \u001b[0;34m.\u001b[0m \u001b[0;32mimport\u001b[0m \u001b[0mio_utils\u001b[0m\u001b[0;34m\u001b[0m\u001b[0m\n\u001b[0;32m----> 6\u001b[0;31m \u001b[0;32mfrom\u001b[0m \u001b[0;34m.\u001b[0m \u001b[0;32mimport\u001b[0m \u001b[0mconv_utils\u001b[0m\u001b[0;34m\u001b[0m\u001b[0m\n\u001b[0m\u001b[1;32m      7\u001b[0m \u001b[0;34m\u001b[0m\u001b[0m\n\u001b[1;32m      8\u001b[0m \u001b[0;31m# Globally-importable utils.\u001b[0m\u001b[0;34m\u001b[0m\u001b[0;34m\u001b[0m\u001b[0m\n",
      "\u001b[0;32m/usr/local/lib/python3.6/site-packages/keras/utils/conv_utils.py\u001b[0m in \u001b[0;36m<module>\u001b[0;34m()\u001b[0m\n\u001b[1;32m      1\u001b[0m \u001b[0;32mfrom\u001b[0m \u001b[0msix\u001b[0m\u001b[0;34m.\u001b[0m\u001b[0mmoves\u001b[0m \u001b[0;32mimport\u001b[0m \u001b[0mrange\u001b[0m\u001b[0;34m\u001b[0m\u001b[0m\n\u001b[1;32m      2\u001b[0m \u001b[0;32mimport\u001b[0m \u001b[0mnumpy\u001b[0m \u001b[0;32mas\u001b[0m \u001b[0mnp\u001b[0m\u001b[0;34m\u001b[0m\u001b[0m\n\u001b[0;32m----> 3\u001b[0;31m \u001b[0;32mfrom\u001b[0m \u001b[0;34m.\u001b[0m\u001b[0;34m.\u001b[0m \u001b[0;32mimport\u001b[0m \u001b[0mbackend\u001b[0m \u001b[0;32mas\u001b[0m \u001b[0mK\u001b[0m\u001b[0;34m\u001b[0m\u001b[0m\n\u001b[0m\u001b[1;32m      4\u001b[0m \u001b[0;34m\u001b[0m\u001b[0m\n\u001b[1;32m      5\u001b[0m \u001b[0;34m\u001b[0m\u001b[0m\n",
      "\u001b[0;32m/usr/local/lib/python3.6/site-packages/keras/backend/__init__.py\u001b[0m in \u001b[0;36m<module>\u001b[0;34m()\u001b[0m\n\u001b[1;32m     81\u001b[0m \u001b[0;32melif\u001b[0m \u001b[0m_BACKEND\u001b[0m \u001b[0;34m==\u001b[0m \u001b[0;34m'tensorflow'\u001b[0m\u001b[0;34m:\u001b[0m\u001b[0;34m\u001b[0m\u001b[0m\n\u001b[1;32m     82\u001b[0m     \u001b[0msys\u001b[0m\u001b[0;34m.\u001b[0m\u001b[0mstderr\u001b[0m\u001b[0;34m.\u001b[0m\u001b[0mwrite\u001b[0m\u001b[0;34m(\u001b[0m\u001b[0;34m'Using TensorFlow backend.\\n'\u001b[0m\u001b[0;34m)\u001b[0m\u001b[0;34m\u001b[0m\u001b[0m\n\u001b[0;32m---> 83\u001b[0;31m     \u001b[0;32mfrom\u001b[0m \u001b[0;34m.\u001b[0m\u001b[0mtensorflow_backend\u001b[0m \u001b[0;32mimport\u001b[0m \u001b[0;34m*\u001b[0m\u001b[0;34m\u001b[0m\u001b[0m\n\u001b[0m\u001b[1;32m     84\u001b[0m \u001b[0;32melse\u001b[0m\u001b[0;34m:\u001b[0m\u001b[0;34m\u001b[0m\u001b[0m\n\u001b[1;32m     85\u001b[0m     \u001b[0;32mraise\u001b[0m \u001b[0mValueError\u001b[0m\u001b[0;34m(\u001b[0m\u001b[0;34m'Unknown backend: '\u001b[0m \u001b[0;34m+\u001b[0m \u001b[0mstr\u001b[0m\u001b[0;34m(\u001b[0m\u001b[0m_BACKEND\u001b[0m\u001b[0;34m)\u001b[0m\u001b[0;34m)\u001b[0m\u001b[0;34m\u001b[0m\u001b[0m\n",
      "\u001b[0;32m/usr/local/lib/python3.6/site-packages/keras/backend/tensorflow_backend.py\u001b[0m in \u001b[0;36m<module>\u001b[0;34m()\u001b[0m\n\u001b[0;32m----> 1\u001b[0;31m \u001b[0;32mimport\u001b[0m \u001b[0mtensorflow\u001b[0m \u001b[0;32mas\u001b[0m \u001b[0mtf\u001b[0m\u001b[0;34m\u001b[0m\u001b[0m\n\u001b[0m\u001b[1;32m      2\u001b[0m \u001b[0;32mfrom\u001b[0m \u001b[0mtensorflow\u001b[0m\u001b[0;34m.\u001b[0m\u001b[0mpython\u001b[0m\u001b[0;34m.\u001b[0m\u001b[0mtraining\u001b[0m \u001b[0;32mimport\u001b[0m \u001b[0mmoving_averages\u001b[0m\u001b[0;34m\u001b[0m\u001b[0m\n\u001b[1;32m      3\u001b[0m \u001b[0;32mfrom\u001b[0m \u001b[0mtensorflow\u001b[0m\u001b[0;34m.\u001b[0m\u001b[0mpython\u001b[0m\u001b[0;34m.\u001b[0m\u001b[0mops\u001b[0m \u001b[0;32mimport\u001b[0m \u001b[0mtensor_array_ops\u001b[0m\u001b[0;34m\u001b[0m\u001b[0m\n\u001b[1;32m      4\u001b[0m \u001b[0;32mfrom\u001b[0m \u001b[0mtensorflow\u001b[0m\u001b[0;34m.\u001b[0m\u001b[0mpython\u001b[0m\u001b[0;34m.\u001b[0m\u001b[0mops\u001b[0m \u001b[0;32mimport\u001b[0m \u001b[0mcontrol_flow_ops\u001b[0m\u001b[0;34m\u001b[0m\u001b[0m\n\u001b[1;32m      5\u001b[0m \u001b[0;32mfrom\u001b[0m \u001b[0mtensorflow\u001b[0m\u001b[0;34m.\u001b[0m\u001b[0mpython\u001b[0m\u001b[0;34m.\u001b[0m\u001b[0mops\u001b[0m \u001b[0;32mimport\u001b[0m \u001b[0mfunctional_ops\u001b[0m\u001b[0;34m\u001b[0m\u001b[0m\n",
      "\u001b[0;31mModuleNotFoundError\u001b[0m: No module named 'tensorflow'"
     ]
    }
   ],
   "source": [
    "import csv\n",
    "import numpy as np\n",
    "import seaborn as sns\n",
    "from scipy.misc import imread, imsave\n",
    "import cv2\n",
    "from keras.models import Sequential\n",
    "from keras.layers.core import Dense, Activation, Flatten, Dropout, Lambda\n",
    "from keras.layers import concatenate, Input\n",
    "from keras.models import Model\n",
    "from keras.layers.convolutional import Convolution2D\n",
    "from keras.layers.pooling import MaxPooling2D\n",
    "import pickle\n",
    "import json"
   ]
  },
  {
   "cell_type": "code",
   "execution_count": null,
   "metadata": {
    "collapsed": true
   },
   "outputs": [],
   "source": [
    "%matplotlib inline\n",
    "from matplotlib import pyplot as plt\n",
    "import seaborn as sns\n",
    "import warnings\n",
    "from jupyterthemes import jtplot\n",
    "jtplot.style()\n",
    "sns.set_context(\"poster\")\n",
    "# plt.style.use('fivethirtyeight')\n",
    "warnings.filterwarnings(\"ignore\")"
   ]
  },
  {
   "cell_type": "code",
   "execution_count": null,
   "metadata": {
    "collapsed": true
   },
   "outputs": [],
   "source": [
    "#we want to predict the steering angle for the next second of video. Here we \n",
    "#skip each 3 frames and predict on them\n",
    "num_predict_ahead_frames_to_use = 90\n",
    "predict_ahead_step_rate = 3\n",
    "num_predict_ahead_frames = num_predict_ahead_frames_to_use//predict_ahead_step_rate\n"
   ]
  },
  {
   "cell_type": "code",
   "execution_count": null,
   "metadata": {
    "collapsed": true
   },
   "outputs": [],
   "source": [
    "X_train = []\n",
    "S_train = []\n",
    "y_train = []\n",
    "\n",
    "drives = ['V79_run_at_warehouse_run_1.pkl']\n",
    "for drive in drives:\n",
    "    with open('{}'.format(drive), 'rb') as f:\n",
    "        data = pickle.load(f)\n",
    "        \n",
    "    X, S, Y = (data['images'], \n",
    "        data['sensors'], \n",
    "        data['steering_throttle'].astype(np.float64))\n",
    "    X_train.extend(X) #images\n",
    "    S_train.extend(S) #sensors\n",
    "    y_train.extend(Y) #steering\n",
    "    \n",
    "    #flip left to right for augmented data\n",
    "    X, S, Y = (np.array([np.fliplr(x) for x in data['images']]),\n",
    "        data['sensors'],\n",
    "        np.negative(data['steering_throttle'].astype(np.float64)))\n",
    "               \n",
    "    X_train.extend(X) #images\n",
    "    S_train.extend(S) #sensors\n",
    "    y_train.extend(Y) #steering\n",
    "    \n",
    "X_train = np.array(X_train)\n",
    "S_train = np.array(S_train)\n",
    "y_train = np.array(y_train)"
   ]
  },
  {
   "cell_type": "code",
   "execution_count": null,
   "metadata": {
    "collapsed": true
   },
   "outputs": [],
   "source": [
    "print(X_train.shape, S_train.shape, y_train.shape)"
   ]
  },
  {
   "cell_type": "code",
   "execution_count": null,
   "metadata": {
    "collapsed": true
   },
   "outputs": [],
   "source": [
    "#view some images\n",
    "frame = 100\n",
    "\n",
    "plt.figure(figsize=(18,8))\n",
    "plt.subplot(121)\n",
    "plt.imshow(X_train[frame])\n",
    "plt.subplot(122)\n",
    "plt.plot(y_train[frame] * 45, label=\"steering angle\")\n",
    "plt.plot(S_train[frame: frame + 90:3, 0] * 100 - 45, label=\"rpm\")\n",
    "plt.plot(S_train[frame: frame + 90:3, 1] * 100 - 45, label=\"throttle\")\n",
    "plt.ylim((-45,45))\n",
    "plt.legend()\n",
    "plt.tight_layout()\n",
    "plt.show()\n"
   ]
  },
  {
   "cell_type": "code",
   "execution_count": null,
   "metadata": {
    "collapsed": true
   },
   "outputs": [],
   "source": [
    "# lets look at the RPM data\n",
    "sns.distplot(y_train[:,0])"
   ]
  },
  {
   "cell_type": "code",
   "execution_count": null,
   "metadata": {
    "collapsed": true
   },
   "outputs": [],
   "source": [
    "def create_model():\n",
    "    model = Sequential()\n",
    "    \n",
    "    #inputs\n",
    "    image_input = Input(shape=(80, 320, 3), name='image_input', dtype='float32')\n",
    "    sensor_input = Input(shape=(1,), name='sensor_input', dtype='float32')\n",
    "    \n",
    "    # preprocess\n",
    "    X = Lambda(lambda x: x/255.0 - 0.5, name=\"lambda_1\")(image_input)\n",
    "    \n",
    "    # conv1 layer\n",
    "    X = Convolution2D(32, (5, 5), name=\"conv_1\")(X)\n",
    "    X = MaxPooling2D((2, 2), name=\"pool_1\")(X)\n",
    "    X = Activation('relu',name=\"relu_1\")(X)\n",
    "    \n",
    "    # conv2 layer\n",
    "    X = Convolution2D(64, (5, 5), name=\"conv_2\")(X)\n",
    "    X = MaxPooling2D((3, 3), name=\"pool_2\")(X)\n",
    "    X = Activation('relu', name=\"relu_2\")(X)\n",
    "    \n",
    "    # conv3 layer\n",
    "    X = Convolution2D(128, (3, 3), name=\"conv_3\")(X)\n",
    "    X = MaxPooling2D((2, 2), name=\"pool_3\")(X)\n",
    "    X = Activation('relu', name=\"relu_3\")(X)\n",
    "\n",
    "    # conv4 layer\n",
    "    X = Convolution2D(128, (3, 3), name=\"conv_4\")(X)\n",
    "    X = MaxPooling2D((2, 2), name=\"pool_4\")(X)\n",
    "    X = Activation('relu', name=\"relu_4\")(X)\n",
    "\n",
    "    #add fully connected layers\n",
    "    X = Flatten(name=\"flat_1\")(X)\n",
    "    \n",
    "    #add in the speed, here we may add in other variables such \n",
    "    # as the last several throttle / speed/ steering angles, and other sensors\n",
    "    X = concatenate([X, sensor_input], name=\"concate_1\")\n",
    "    \n",
    "    # fc1\n",
    "    X = Dense(1024, name=\"dnse_1\")(X)\n",
    "    X = Dropout(0.5, name=\"dropout_1\")(X)\n",
    "    X = Activation('relu', name=\"dense_relu_1\")(X)\n",
    "    \n",
    "    # fc2\n",
    "    X = Dense(128, name=\"dnse_2\")(X)\n",
    "    X = Dropout(0.5, name=\"dropout_2\")(X)\n",
    "    X = Activation('relu', name=\"dense_relu_2\")(X)\n",
    "    \n",
    "    # fc2\n",
    "    X = Dense(64, name=\"dnse_3\")(X)\n",
    "    X = Dropout(0.5, name=\"dropout_3\")(X)\n",
    "    X = Activation('relu', name=\"dense_relu_3\")(X)\n",
    "    \n",
    "    #outputs are the next 10 frames\n",
    "    steer_outputs = []\n",
    "    for i in range(num_predict_ahead_frames):\n",
    "        steer_output = Dense(1, name='steer_output_{}'.format(i))(X)\n",
    "        steer_outputs.append(steer_output)\n",
    "    \n",
    "    \n",
    "\n",
    "    #model = Model(inputs=[image_input, sensor_input], outputs=[steer_output, throttle_output])\n",
    "    model = Model(inputs=[image_input, sensor_input], outputs=steer_outputs)\n",
    "\n",
    "    loss_def = {\"steer_output_{}\".format(i) : \"mse\" for i in range(num_predict_ahead_frames)}\n",
    "    loss_weight_def = {\"steer_output_{}\".format(i) : 1.0 for i in range(num_predict_ahead_frames)}\n",
    "    \n",
    "    # note, setting the loss weight to favor steering\n",
    "    model.compile(optimizer='adam', loss=loss_def, loss_weights=loss_weight_def)\n",
    "\n",
    "    return model"
   ]
  },
  {
   "cell_type": "code",
   "execution_count": null,
   "metadata": {
    "collapsed": true
   },
   "outputs": [],
   "source": [
    "#create the model and save it as json\n",
    "model = create_model()\n",
    "with open(\"model.json\", \"w\") as f:\n",
    "    json.dump(model.to_json(), f)"
   ]
  },
  {
   "cell_type": "code",
   "execution_count": null,
   "metadata": {
    "collapsed": true
   },
   "outputs": [],
   "source": [
    "#loading the model\n",
    "from keras.models import model_from_yaml, model_from_json\n",
    "with open(\"model.json\") as f:\n",
    "    model = model_from_json(json.load(f))\n",
    "    model.compile(loss=\"mse\", optimizer=\"adam\")\n",
    "#     model.load_weights(\"office_set_predict_ahead_90_with_rpm_temp.h5\")  #<--last run"
   ]
  },
  {
   "cell_type": "code",
   "execution_count": null,
   "metadata": {
    "collapsed": true
   },
   "outputs": [],
   "source": [
    "y_train.shape"
   ]
  },
  {
   "cell_type": "code",
   "execution_count": null,
   "metadata": {
    "collapsed": true
   },
   "outputs": [],
   "source": [
    "y_output = {\"steer_output_{}\".format(i) : y_train[:,i] for i in range(num_predict_ahead_frames)}"
   ]
  },
  {
   "cell_type": "code",
   "execution_count": null,
   "metadata": {
    "collapsed": true,
    "scrolled": true
   },
   "outputs": [],
   "source": [
    "hist = []\n",
    "for i in range(0,50):\n",
    "    print(\"{} --------------\".format(i))\n",
    "    h = model.fit({'image_input': X_train, 'sensor_input': S_train[:,0]}, y_output, \n",
    "                  shuffle=True, epochs=10, validation_split=.3, batch_size=128)\n",
    "    hist.append(h.history)\n",
    "    with open('history_90.json', 'w') as f:\n",
    "            json.dump(hist, f)\n",
    "            \n",
    "    if i % 2 == 0:\n",
    "        model.save(\"new_eGPU_{}.h5\".format(i))\n",
    "    "
   ]
  },
  {
   "cell_type": "code",
   "execution_count": null,
   "metadata": {
    "collapsed": true
   },
   "outputs": [],
   "source": [
    "model.save(\"office_set_predict_ahead_90_with_rpm_temp.h5\")\n"
   ]
  },
  {
   "cell_type": "code",
   "execution_count": null,
   "metadata": {
    "collapsed": true
   },
   "outputs": [],
   "source": [
    "predicted = np.array(model.predict({'image_input': X_train, 'sensor_input': S_train[:,0]}))"
   ]
  },
  {
   "cell_type": "code",
   "execution_count": null,
   "metadata": {
    "collapsed": true
   },
   "outputs": [],
   "source": [
    "predicted.shape\n"
   ]
  },
  {
   "cell_type": "code",
   "execution_count": null,
   "metadata": {
    "collapsed": true
   },
   "outputs": [],
   "source": [
    "# visual actual vs predicted\n",
    "plt.figure(figsize=(400,10))\n",
    "plt.plot(y_train, label=\"train\")\n",
    "plt.plot(predicted[0, :,0], label=\"predicted\")\n",
    "plt.legend()\n",
    "plt.xticks(np.arange(0,len(X_train), 1000))\n",
    "plt.show()"
   ]
  },
  {
   "cell_type": "code",
   "execution_count": null,
   "metadata": {
    "collapsed": true
   },
   "outputs": [],
   "source": [
    "#inference\n",
    "frame = 5305\n",
    "\n",
    "\n",
    "img = X_train[frame]\n",
    "actual = yy_train[frame] * 45\n",
    "predicted_angle = [x[frame][0] * 45 for x in predicted]\n",
    "\n",
    "\n",
    "plt.subplot(211)\n",
    "plt.imshow(X_train[frame])\n",
    "plt.subplot(212)\n",
    "plt.plot(np.arange(0,90,3),actual, label=\"actual\")\n",
    "plt.plot(np.arange(0,90,3),predicted_angle,  label=\"predicted\")\n",
    "plt.plot(np.arange(0,90,3),S_train[frame: frame + 90:3, 0] * 500 - 45, label=\"rpm\")\n",
    "plt.ylim((-45,45))\n",
    "plt.legend()\n",
    "plt.title(\"predicted vs actual steering angle for the next \\n30frames (1second at 60fps) @ {} RPM\".format(S_train[frame][0] * 5000))\n",
    "plt.show()\n",
    "\n",
    "print(yy_train[frame])"
   ]
  },
  {
   "cell_type": "code",
   "execution_count": null,
   "metadata": {
    "collapsed": true
   },
   "outputs": [],
   "source": []
  },
  {
   "cell_type": "code",
   "execution_count": null,
   "metadata": {
    "collapsed": true
   },
   "outputs": [],
   "source": []
  }
 ],
 "metadata": {
  "kernelspec": {
   "display_name": "Python 2",
   "language": "python",
   "name": "python2"
  },
  "language_info": {
   "codemirror_mode": {
    "name": "ipython",
    "version": 3
   },
   "file_extension": ".py",
   "mimetype": "text/x-python",
   "name": "python",
   "nbconvert_exporter": "python",
   "pygments_lexer": "ipython3",
   "version": "3.6.2"
  }
 },
 "nbformat": 4,
 "nbformat_minor": 2
}
